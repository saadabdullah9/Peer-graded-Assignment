{
 "cells": [
  {
   "cell_type": "markdown",
   "id": "d34d0999",
   "metadata": {},
   "source": [
    "# Data science tools and ecosystem"
   ]
  },
  {
   "cell_type": "markdown",
   "id": "25d6735c",
   "metadata": {},
   "source": [
    "## Introduction\n",
    "Welcome to this notebook on Data Science. In this notebook, we will cover various aspects of data science including languages, libraries, and tools, as well as some practical exercises involving arithmetic operations.\n"
   ]
  },
  {
   "cell_type": "markdown",
   "id": "9adf700b",
   "metadata": {},
   "source": [
    "## Data Science Languages\n",
    "- Python\n",
    "- R\n",
    "- SQL\n",
    "- Julia\n",
    "- Scala\n"
   ]
  },
  {
   "cell_type": "markdown",
   "id": "6ca8608b",
   "metadata": {},
   "source": [
    "## Data Science Libraries\n",
    "- Pandas\n",
    "- NumPy\n",
    "- Matplotlib\n",
    "- Scikit-learn\n",
    "- TensorFlow\n"
   ]
  },
  {
   "cell_type": "markdown",
   "id": "4d27dde2",
   "metadata": {},
   "source": [
    "## Data Science Tools\n",
    "\n",
    "| Tool         | Description                          |\n",
    "|--------------|--------------------------------------|\n",
    "| Jupyter      | Interactive notebook for coding       |\n",
    "| Anaconda     | Python/R distribution for data science|\n",
    "| Tableau      | Data visualization tool                |\n",
    "| GitHub        | Version control and collaboration tool|\n",
    "| Apache Spark | Big data processing framework         |\n"
   ]
  },
  {
   "cell_type": "markdown",
   "id": "9e59f3c9",
   "metadata": {},
   "source": [
    "## Arithmetic Expression Examples\n",
    "Here are some examples of basic arithmetic expressions you can perform:\n",
    "- Addition\n",
    "- Subtraction\n",
    "- Multiplication\n",
    "- Division\n"
   ]
  },
  {
   "cell_type": "code",
   "execution_count": 1,
   "id": "15607989",
   "metadata": {},
   "outputs": [
    {
     "data": {
      "text/plain": [
       "65"
      ]
     },
     "execution_count": 1,
     "metadata": {},
     "output_type": "execute_result"
    }
   ],
   "source": [
    "# Code to multiply and add numbers\n",
    "a = 5\n",
    "b = 10\n",
    "result = (a * b) + (a + b)\n",
    "result\n"
   ]
  },
  {
   "cell_type": "code",
   "execution_count": 2,
   "id": "4201a3ab",
   "metadata": {},
   "outputs": [
    {
     "data": {
      "text/plain": [
       "2.0"
      ]
     },
     "execution_count": 2,
     "metadata": {},
     "output_type": "execute_result"
    }
   ],
   "source": [
    "# Code to convert minutes to hours\n",
    "def minutes_to_hours(minutes):\n",
    "    hours = minutes / 60\n",
    "    return hours\n",
    "\n",
    "minutes = 120\n",
    "hours = minutes_to_hours(minutes)\n",
    "hours\n"
   ]
  },
  {
   "cell_type": "markdown",
   "id": "6420d041",
   "metadata": {},
   "source": [
    "## Objectives\n",
    "- Understand the basic languages used in data science.\n",
    "- Learn about key data science libraries and tools.\n",
    "- Perform simple arithmetic operations using code.\n",
    "- Convert units with code.\n"
   ]
  },
  {
   "cell_type": "markdown",
   "id": "20e81c4e",
   "metadata": {},
   "source": [
    "## Author\n",
    "Rao Saad Abdullah\n"
   ]
  },
  {
   "cell_type": "code",
   "execution_count": null,
   "id": "a5858d68",
   "metadata": {},
   "outputs": [],
   "source": []
  },
  {
   "cell_type": "code",
   "execution_count": null,
   "id": "7893196c",
   "metadata": {},
   "outputs": [],
   "source": []
  }
 ],
 "metadata": {
  "kernelspec": {
   "display_name": "Python 3 (ipykernel)",
   "language": "python",
   "name": "python3"
  },
  "language_info": {
   "codemirror_mode": {
    "name": "ipython",
    "version": 3
   },
   "file_extension": ".py",
   "mimetype": "text/x-python",
   "name": "python",
   "nbconvert_exporter": "python",
   "pygments_lexer": "ipython3",
   "version": "3.11.4"
  }
 },
 "nbformat": 4,
 "nbformat_minor": 5
}
